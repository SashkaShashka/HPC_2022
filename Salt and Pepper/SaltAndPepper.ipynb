{
 "cells": [
  {
   "cell_type": "code",
   "execution_count": 10,
   "id": "15c8390f",
   "metadata": {},
   "outputs": [
    {
     "data": {
      "text/plain": [
       "True"
      ]
     },
     "execution_count": 10,
     "metadata": {},
     "output_type": "execute_result"
    }
   ],
   "source": [
    "import random\n",
    "import cv2\n",
    "  \n",
    "def add_noise(img):\n",
    "  \n",
    "    # Getting the dimensions of the image\n",
    "    row , col = img.shape\n",
    "      \n",
    "    # Randomly pick some pixels in the\n",
    "    # image for coloring them white\n",
    "    # Pick a random number between 300 and 10000\n",
    "    number_of_pixels = random.randint(300, 500)\n",
    "    for i in range(number_of_pixels):\n",
    "        \n",
    "        # Pick a random y coordinate\n",
    "        y_coord=random.randint(0, row - 1)\n",
    "          \n",
    "        # Pick a random x coordinate\n",
    "        x_coord=random.randint(0, col - 1)\n",
    "          \n",
    "        # Color that pixel to white\n",
    "        img[y_coord][x_coord] = 255\n",
    "          \n",
    "    # Randomly pick some pixels in\n",
    "    # the image for coloring them black\n",
    "    # Pick a random number between 300 and 10000\n",
    "    number_of_pixels = random.randint(300 , 500)\n",
    "    for i in range(number_of_pixels):\n",
    "        \n",
    "        # Pick a random y coordinate\n",
    "        y_coord=random.randint(0, row - 1)\n",
    "          \n",
    "        # Pick a random x coordinate\n",
    "        x_coord=random.randint(0, col - 1)\n",
    "          \n",
    "        # Color that pixel to black\n",
    "        img[y_coord][x_coord] = 0\n",
    "          \n",
    "    return img\n",
    "  \n",
    "# salt-and-pepper noise can\n",
    "# be applied only to greyscale images\n",
    "# Reading the color image in greyscale image\n",
    "img = cv2.imread(\"_input128.jpg\",\n",
    "                 cv2.IMREAD_GRAYSCALE)\n",
    "  \n",
    "#Storing the image\n",
    "cv2.imwrite(\"input128.jpg\",\n",
    "            add_noise(img))"
   ]
  },
  {
   "cell_type": "code",
   "execution_count": 4,
   "id": "7d3e4c61",
   "metadata": {},
   "outputs": [
    {
     "name": "stdout",
     "output_type": "stream",
     "text": [
      "Requirement already satisfied: opencv-python in c:\\users\\user\\miniconda3\\envs\\ai\\lib\\site-packages (4.6.0.66)\n",
      "Requirement already satisfied: numpy>=1.19.3 in c:\\users\\user\\miniconda3\\envs\\ai\\lib\\site-packages (from opencv-python) (1.23.4)\n"
     ]
    }
   ],
   "source": [
    "!pip install opencv-python"
   ]
  },
  {
   "cell_type": "code",
   "execution_count": null,
   "id": "06676015",
   "metadata": {},
   "outputs": [],
   "source": []
  }
 ],
 "metadata": {
  "kernelspec": {
   "display_name": "Python 3 (ipykernel)",
   "language": "python",
   "name": "python3"
  },
  "language_info": {
   "codemirror_mode": {
    "name": "ipython",
    "version": 3
   },
   "file_extension": ".py",
   "mimetype": "text/x-python",
   "name": "python",
   "nbconvert_exporter": "python",
   "pygments_lexer": "ipython3",
   "version": "3.10.6"
  }
 },
 "nbformat": 4,
 "nbformat_minor": 5
}
